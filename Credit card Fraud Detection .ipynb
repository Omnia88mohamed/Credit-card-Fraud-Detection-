{
 "cells": [
  {
   "cell_type": "markdown",
   "id": "a7bc934d",
   "metadata": {},
   "source": [
    "#                                     Credit card Fraud Detection"
   ]
  },
  {
   "cell_type": "markdown",
   "id": "343d570d",
   "metadata": {},
   "source": [
    "## Importing Necessary Libraries"
   ]
  },
  {
   "cell_type": "code",
   "execution_count": 1,
   "id": "c8473e42",
   "metadata": {},
   "outputs": [],
   "source": [
    "import numpy as np\n",
    "import pandas as pd\n",
    "from sklearn.model_selection import train_test_split\n",
    "from sklearn.linear_model import LogisticRegression\n",
    "from sklearn.metrics import accuracy_score\n",
    "from sklearn.tree import DecisionTreeClassifier \n",
    "from sklearn.neighbors import KNeighborsClassifier\n",
    "from sklearn.ensemble import RandomForestClassifier\n",
    "from sklearn.naive_bayes import GaussianNB\n",
    "from sklearn import svm\n",
    "import matplotlib.pyplot as plt\n",
    "import seaborn as sns\n",
    "from sklearn import model_selection, datasets\n",
    "from sklearn.tree import DecisionTreeClassifier\n",
    "import pickle\n",
    "import joblib"
   ]
  },
  {
   "cell_type": "markdown",
   "id": "ea9ca7ac",
   "metadata": {},
   "source": [
    "## Importing Dataset"
   ]
  },
  {
   "cell_type": "code",
   "execution_count": 2,
   "id": "62c8c6e0",
   "metadata": {},
   "outputs": [],
   "source": [
    "credit_card_data = pd.read_csv(\"D:./4th/creditcard.csv\")"
   ]
  },
  {
   "cell_type": "markdown",
   "id": "824c61d6",
   "metadata": {},
   "source": [
    "# Data Understanding & Preprocessing"
   ]
  },
  {
   "cell_type": "markdown",
   "id": "4ed48b0c",
   "metadata": {},
   "source": [
    "## first 5 rows of the dataset"
   ]
  },
  {
   "cell_type": "code",
   "execution_count": 3,
   "id": "51dadecb",
   "metadata": {},
   "outputs": [
    {
     "data": {
      "text/html": [
       "<div>\n",
       "<style scoped>\n",
       "    .dataframe tbody tr th:only-of-type {\n",
       "        vertical-align: middle;\n",
       "    }\n",
       "\n",
       "    .dataframe tbody tr th {\n",
       "        vertical-align: top;\n",
       "    }\n",
       "\n",
       "    .dataframe thead th {\n",
       "        text-align: right;\n",
       "    }\n",
       "</style>\n",
       "<table border=\"1\" class=\"dataframe\">\n",
       "  <thead>\n",
       "    <tr style=\"text-align: right;\">\n",
       "      <th></th>\n",
       "      <th>Time</th>\n",
       "      <th>V1</th>\n",
       "      <th>V2</th>\n",
       "      <th>V3</th>\n",
       "      <th>V4</th>\n",
       "      <th>V5</th>\n",
       "      <th>V6</th>\n",
       "      <th>V7</th>\n",
       "      <th>V8</th>\n",
       "      <th>V9</th>\n",
       "      <th>...</th>\n",
       "      <th>V21</th>\n",
       "      <th>V22</th>\n",
       "      <th>V23</th>\n",
       "      <th>V24</th>\n",
       "      <th>V25</th>\n",
       "      <th>V26</th>\n",
       "      <th>V27</th>\n",
       "      <th>V28</th>\n",
       "      <th>Amount</th>\n",
       "      <th>Class</th>\n",
       "    </tr>\n",
       "  </thead>\n",
       "  <tbody>\n",
       "    <tr>\n",
       "      <th>0</th>\n",
       "      <td>0.0</td>\n",
       "      <td>-1.359807</td>\n",
       "      <td>-0.072781</td>\n",
       "      <td>2.536347</td>\n",
       "      <td>1.378155</td>\n",
       "      <td>-0.338321</td>\n",
       "      <td>0.462388</td>\n",
       "      <td>0.239599</td>\n",
       "      <td>0.098698</td>\n",
       "      <td>0.363787</td>\n",
       "      <td>...</td>\n",
       "      <td>-0.018307</td>\n",
       "      <td>0.277838</td>\n",
       "      <td>-0.110474</td>\n",
       "      <td>0.066928</td>\n",
       "      <td>0.128539</td>\n",
       "      <td>-0.189115</td>\n",
       "      <td>0.133558</td>\n",
       "      <td>-0.021053</td>\n",
       "      <td>149.62</td>\n",
       "      <td>0</td>\n",
       "    </tr>\n",
       "    <tr>\n",
       "      <th>1</th>\n",
       "      <td>0.0</td>\n",
       "      <td>1.191857</td>\n",
       "      <td>0.266151</td>\n",
       "      <td>0.166480</td>\n",
       "      <td>0.448154</td>\n",
       "      <td>0.060018</td>\n",
       "      <td>-0.082361</td>\n",
       "      <td>-0.078803</td>\n",
       "      <td>0.085102</td>\n",
       "      <td>-0.255425</td>\n",
       "      <td>...</td>\n",
       "      <td>-0.225775</td>\n",
       "      <td>-0.638672</td>\n",
       "      <td>0.101288</td>\n",
       "      <td>-0.339846</td>\n",
       "      <td>0.167170</td>\n",
       "      <td>0.125895</td>\n",
       "      <td>-0.008983</td>\n",
       "      <td>0.014724</td>\n",
       "      <td>2.69</td>\n",
       "      <td>0</td>\n",
       "    </tr>\n",
       "    <tr>\n",
       "      <th>2</th>\n",
       "      <td>1.0</td>\n",
       "      <td>-1.358354</td>\n",
       "      <td>-1.340163</td>\n",
       "      <td>1.773209</td>\n",
       "      <td>0.379780</td>\n",
       "      <td>-0.503198</td>\n",
       "      <td>1.800499</td>\n",
       "      <td>0.791461</td>\n",
       "      <td>0.247676</td>\n",
       "      <td>-1.514654</td>\n",
       "      <td>...</td>\n",
       "      <td>0.247998</td>\n",
       "      <td>0.771679</td>\n",
       "      <td>0.909412</td>\n",
       "      <td>-0.689281</td>\n",
       "      <td>-0.327642</td>\n",
       "      <td>-0.139097</td>\n",
       "      <td>-0.055353</td>\n",
       "      <td>-0.059752</td>\n",
       "      <td>378.66</td>\n",
       "      <td>0</td>\n",
       "    </tr>\n",
       "    <tr>\n",
       "      <th>3</th>\n",
       "      <td>1.0</td>\n",
       "      <td>-0.966272</td>\n",
       "      <td>-0.185226</td>\n",
       "      <td>1.792993</td>\n",
       "      <td>-0.863291</td>\n",
       "      <td>-0.010309</td>\n",
       "      <td>1.247203</td>\n",
       "      <td>0.237609</td>\n",
       "      <td>0.377436</td>\n",
       "      <td>-1.387024</td>\n",
       "      <td>...</td>\n",
       "      <td>-0.108300</td>\n",
       "      <td>0.005274</td>\n",
       "      <td>-0.190321</td>\n",
       "      <td>-1.175575</td>\n",
       "      <td>0.647376</td>\n",
       "      <td>-0.221929</td>\n",
       "      <td>0.062723</td>\n",
       "      <td>0.061458</td>\n",
       "      <td>123.50</td>\n",
       "      <td>0</td>\n",
       "    </tr>\n",
       "    <tr>\n",
       "      <th>4</th>\n",
       "      <td>2.0</td>\n",
       "      <td>-1.158233</td>\n",
       "      <td>0.877737</td>\n",
       "      <td>1.548718</td>\n",
       "      <td>0.403034</td>\n",
       "      <td>-0.407193</td>\n",
       "      <td>0.095921</td>\n",
       "      <td>0.592941</td>\n",
       "      <td>-0.270533</td>\n",
       "      <td>0.817739</td>\n",
       "      <td>...</td>\n",
       "      <td>-0.009431</td>\n",
       "      <td>0.798278</td>\n",
       "      <td>-0.137458</td>\n",
       "      <td>0.141267</td>\n",
       "      <td>-0.206010</td>\n",
       "      <td>0.502292</td>\n",
       "      <td>0.219422</td>\n",
       "      <td>0.215153</td>\n",
       "      <td>69.99</td>\n",
       "      <td>0</td>\n",
       "    </tr>\n",
       "  </tbody>\n",
       "</table>\n",
       "<p>5 rows × 31 columns</p>\n",
       "</div>"
      ],
      "text/plain": [
       "   Time        V1        V2        V3        V4        V5        V6        V7  \\\n",
       "0   0.0 -1.359807 -0.072781  2.536347  1.378155 -0.338321  0.462388  0.239599   \n",
       "1   0.0  1.191857  0.266151  0.166480  0.448154  0.060018 -0.082361 -0.078803   \n",
       "2   1.0 -1.358354 -1.340163  1.773209  0.379780 -0.503198  1.800499  0.791461   \n",
       "3   1.0 -0.966272 -0.185226  1.792993 -0.863291 -0.010309  1.247203  0.237609   \n",
       "4   2.0 -1.158233  0.877737  1.548718  0.403034 -0.407193  0.095921  0.592941   \n",
       "\n",
       "         V8        V9  ...       V21       V22       V23       V24       V25  \\\n",
       "0  0.098698  0.363787  ... -0.018307  0.277838 -0.110474  0.066928  0.128539   \n",
       "1  0.085102 -0.255425  ... -0.225775 -0.638672  0.101288 -0.339846  0.167170   \n",
       "2  0.247676 -1.514654  ...  0.247998  0.771679  0.909412 -0.689281 -0.327642   \n",
       "3  0.377436 -1.387024  ... -0.108300  0.005274 -0.190321 -1.175575  0.647376   \n",
       "4 -0.270533  0.817739  ... -0.009431  0.798278 -0.137458  0.141267 -0.206010   \n",
       "\n",
       "        V26       V27       V28  Amount  Class  \n",
       "0 -0.189115  0.133558 -0.021053  149.62      0  \n",
       "1  0.125895 -0.008983  0.014724    2.69      0  \n",
       "2 -0.139097 -0.055353 -0.059752  378.66      0  \n",
       "3 -0.221929  0.062723  0.061458  123.50      0  \n",
       "4  0.502292  0.219422  0.215153   69.99      0  \n",
       "\n",
       "[5 rows x 31 columns]"
      ]
     },
     "execution_count": 3,
     "metadata": {},
     "output_type": "execute_result"
    }
   ],
   "source": [
    "credit_card_data.head()"
   ]
  },
  {
   "cell_type": "markdown",
   "id": "3aa5ee35",
   "metadata": {},
   "source": [
    "## last 5 rows of the dataset"
   ]
  },
  {
   "cell_type": "code",
   "execution_count": 4,
   "id": "6adc5411",
   "metadata": {},
   "outputs": [
    {
     "data": {
      "text/html": [
       "<div>\n",
       "<style scoped>\n",
       "    .dataframe tbody tr th:only-of-type {\n",
       "        vertical-align: middle;\n",
       "    }\n",
       "\n",
       "    .dataframe tbody tr th {\n",
       "        vertical-align: top;\n",
       "    }\n",
       "\n",
       "    .dataframe thead th {\n",
       "        text-align: right;\n",
       "    }\n",
       "</style>\n",
       "<table border=\"1\" class=\"dataframe\">\n",
       "  <thead>\n",
       "    <tr style=\"text-align: right;\">\n",
       "      <th></th>\n",
       "      <th>Time</th>\n",
       "      <th>V1</th>\n",
       "      <th>V2</th>\n",
       "      <th>V3</th>\n",
       "      <th>V4</th>\n",
       "      <th>V5</th>\n",
       "      <th>V6</th>\n",
       "      <th>V7</th>\n",
       "      <th>V8</th>\n",
       "      <th>V9</th>\n",
       "      <th>...</th>\n",
       "      <th>V21</th>\n",
       "      <th>V22</th>\n",
       "      <th>V23</th>\n",
       "      <th>V24</th>\n",
       "      <th>V25</th>\n",
       "      <th>V26</th>\n",
       "      <th>V27</th>\n",
       "      <th>V28</th>\n",
       "      <th>Amount</th>\n",
       "      <th>Class</th>\n",
       "    </tr>\n",
       "  </thead>\n",
       "  <tbody>\n",
       "    <tr>\n",
       "      <th>284802</th>\n",
       "      <td>172786.0</td>\n",
       "      <td>-11.881118</td>\n",
       "      <td>10.071785</td>\n",
       "      <td>-9.834783</td>\n",
       "      <td>-2.066656</td>\n",
       "      <td>-5.364473</td>\n",
       "      <td>-2.606837</td>\n",
       "      <td>-4.918215</td>\n",
       "      <td>7.305334</td>\n",
       "      <td>1.914428</td>\n",
       "      <td>...</td>\n",
       "      <td>0.213454</td>\n",
       "      <td>0.111864</td>\n",
       "      <td>1.014480</td>\n",
       "      <td>-0.509348</td>\n",
       "      <td>1.436807</td>\n",
       "      <td>0.250034</td>\n",
       "      <td>0.943651</td>\n",
       "      <td>0.823731</td>\n",
       "      <td>0.77</td>\n",
       "      <td>0</td>\n",
       "    </tr>\n",
       "    <tr>\n",
       "      <th>284803</th>\n",
       "      <td>172787.0</td>\n",
       "      <td>-0.732789</td>\n",
       "      <td>-0.055080</td>\n",
       "      <td>2.035030</td>\n",
       "      <td>-0.738589</td>\n",
       "      <td>0.868229</td>\n",
       "      <td>1.058415</td>\n",
       "      <td>0.024330</td>\n",
       "      <td>0.294869</td>\n",
       "      <td>0.584800</td>\n",
       "      <td>...</td>\n",
       "      <td>0.214205</td>\n",
       "      <td>0.924384</td>\n",
       "      <td>0.012463</td>\n",
       "      <td>-1.016226</td>\n",
       "      <td>-0.606624</td>\n",
       "      <td>-0.395255</td>\n",
       "      <td>0.068472</td>\n",
       "      <td>-0.053527</td>\n",
       "      <td>24.79</td>\n",
       "      <td>0</td>\n",
       "    </tr>\n",
       "    <tr>\n",
       "      <th>284804</th>\n",
       "      <td>172788.0</td>\n",
       "      <td>1.919565</td>\n",
       "      <td>-0.301254</td>\n",
       "      <td>-3.249640</td>\n",
       "      <td>-0.557828</td>\n",
       "      <td>2.630515</td>\n",
       "      <td>3.031260</td>\n",
       "      <td>-0.296827</td>\n",
       "      <td>0.708417</td>\n",
       "      <td>0.432454</td>\n",
       "      <td>...</td>\n",
       "      <td>0.232045</td>\n",
       "      <td>0.578229</td>\n",
       "      <td>-0.037501</td>\n",
       "      <td>0.640134</td>\n",
       "      <td>0.265745</td>\n",
       "      <td>-0.087371</td>\n",
       "      <td>0.004455</td>\n",
       "      <td>-0.026561</td>\n",
       "      <td>67.88</td>\n",
       "      <td>0</td>\n",
       "    </tr>\n",
       "    <tr>\n",
       "      <th>284805</th>\n",
       "      <td>172788.0</td>\n",
       "      <td>-0.240440</td>\n",
       "      <td>0.530483</td>\n",
       "      <td>0.702510</td>\n",
       "      <td>0.689799</td>\n",
       "      <td>-0.377961</td>\n",
       "      <td>0.623708</td>\n",
       "      <td>-0.686180</td>\n",
       "      <td>0.679145</td>\n",
       "      <td>0.392087</td>\n",
       "      <td>...</td>\n",
       "      <td>0.265245</td>\n",
       "      <td>0.800049</td>\n",
       "      <td>-0.163298</td>\n",
       "      <td>0.123205</td>\n",
       "      <td>-0.569159</td>\n",
       "      <td>0.546668</td>\n",
       "      <td>0.108821</td>\n",
       "      <td>0.104533</td>\n",
       "      <td>10.00</td>\n",
       "      <td>0</td>\n",
       "    </tr>\n",
       "    <tr>\n",
       "      <th>284806</th>\n",
       "      <td>172792.0</td>\n",
       "      <td>-0.533413</td>\n",
       "      <td>-0.189733</td>\n",
       "      <td>0.703337</td>\n",
       "      <td>-0.506271</td>\n",
       "      <td>-0.012546</td>\n",
       "      <td>-0.649617</td>\n",
       "      <td>1.577006</td>\n",
       "      <td>-0.414650</td>\n",
       "      <td>0.486180</td>\n",
       "      <td>...</td>\n",
       "      <td>0.261057</td>\n",
       "      <td>0.643078</td>\n",
       "      <td>0.376777</td>\n",
       "      <td>0.008797</td>\n",
       "      <td>-0.473649</td>\n",
       "      <td>-0.818267</td>\n",
       "      <td>-0.002415</td>\n",
       "      <td>0.013649</td>\n",
       "      <td>217.00</td>\n",
       "      <td>0</td>\n",
       "    </tr>\n",
       "  </tbody>\n",
       "</table>\n",
       "<p>5 rows × 31 columns</p>\n",
       "</div>"
      ],
      "text/plain": [
       "            Time         V1         V2        V3        V4        V5  \\\n",
       "284802  172786.0 -11.881118  10.071785 -9.834783 -2.066656 -5.364473   \n",
       "284803  172787.0  -0.732789  -0.055080  2.035030 -0.738589  0.868229   \n",
       "284804  172788.0   1.919565  -0.301254 -3.249640 -0.557828  2.630515   \n",
       "284805  172788.0  -0.240440   0.530483  0.702510  0.689799 -0.377961   \n",
       "284806  172792.0  -0.533413  -0.189733  0.703337 -0.506271 -0.012546   \n",
       "\n",
       "              V6        V7        V8        V9  ...       V21       V22  \\\n",
       "284802 -2.606837 -4.918215  7.305334  1.914428  ...  0.213454  0.111864   \n",
       "284803  1.058415  0.024330  0.294869  0.584800  ...  0.214205  0.924384   \n",
       "284804  3.031260 -0.296827  0.708417  0.432454  ...  0.232045  0.578229   \n",
       "284805  0.623708 -0.686180  0.679145  0.392087  ...  0.265245  0.800049   \n",
       "284806 -0.649617  1.577006 -0.414650  0.486180  ...  0.261057  0.643078   \n",
       "\n",
       "             V23       V24       V25       V26       V27       V28  Amount  \\\n",
       "284802  1.014480 -0.509348  1.436807  0.250034  0.943651  0.823731    0.77   \n",
       "284803  0.012463 -1.016226 -0.606624 -0.395255  0.068472 -0.053527   24.79   \n",
       "284804 -0.037501  0.640134  0.265745 -0.087371  0.004455 -0.026561   67.88   \n",
       "284805 -0.163298  0.123205 -0.569159  0.546668  0.108821  0.104533   10.00   \n",
       "284806  0.376777  0.008797 -0.473649 -0.818267 -0.002415  0.013649  217.00   \n",
       "\n",
       "        Class  \n",
       "284802      0  \n",
       "284803      0  \n",
       "284804      0  \n",
       "284805      0  \n",
       "284806      0  \n",
       "\n",
       "[5 rows x 31 columns]"
      ]
     },
     "execution_count": 4,
     "metadata": {},
     "output_type": "execute_result"
    }
   ],
   "source": [
    "credit_card_data.tail()"
   ]
  },
  {
   "cell_type": "markdown",
   "id": "b5fbf38d",
   "metadata": {},
   "source": [
    "## dataset informations"
   ]
  },
  {
   "cell_type": "code",
   "execution_count": 5,
   "id": "00b3f034",
   "metadata": {},
   "outputs": [
    {
     "name": "stdout",
     "output_type": "stream",
     "text": [
      "<class 'pandas.core.frame.DataFrame'>\n",
      "RangeIndex: 284807 entries, 0 to 284806\n",
      "Data columns (total 31 columns):\n",
      " #   Column  Non-Null Count   Dtype  \n",
      "---  ------  --------------   -----  \n",
      " 0   Time    284807 non-null  float64\n",
      " 1   V1      284807 non-null  float64\n",
      " 2   V2      284807 non-null  float64\n",
      " 3   V3      284807 non-null  float64\n",
      " 4   V4      284807 non-null  float64\n",
      " 5   V5      284807 non-null  float64\n",
      " 6   V6      284807 non-null  float64\n",
      " 7   V7      284807 non-null  float64\n",
      " 8   V8      284807 non-null  float64\n",
      " 9   V9      284807 non-null  float64\n",
      " 10  V10     284807 non-null  float64\n",
      " 11  V11     284807 non-null  float64\n",
      " 12  V12     284807 non-null  float64\n",
      " 13  V13     284807 non-null  float64\n",
      " 14  V14     284807 non-null  float64\n",
      " 15  V15     284807 non-null  float64\n",
      " 16  V16     284807 non-null  float64\n",
      " 17  V17     284807 non-null  float64\n",
      " 18  V18     284807 non-null  float64\n",
      " 19  V19     284807 non-null  float64\n",
      " 20  V20     284807 non-null  float64\n",
      " 21  V21     284807 non-null  float64\n",
      " 22  V22     284807 non-null  float64\n",
      " 23  V23     284807 non-null  float64\n",
      " 24  V24     284807 non-null  float64\n",
      " 25  V25     284807 non-null  float64\n",
      " 26  V26     284807 non-null  float64\n",
      " 27  V27     284807 non-null  float64\n",
      " 28  V28     284807 non-null  float64\n",
      " 29  Amount  284807 non-null  float64\n",
      " 30  Class   284807 non-null  int64  \n",
      "dtypes: float64(30), int64(1)\n",
      "memory usage: 67.4 MB\n"
     ]
    }
   ],
   "source": [
    "credit_card_data.info()"
   ]
  },
  {
   "cell_type": "markdown",
   "id": "bbf473a1",
   "metadata": {},
   "source": [
    "## checking the number of missing values in each column"
   ]
  },
  {
   "cell_type": "code",
   "execution_count": 6,
   "id": "ac897c88",
   "metadata": {},
   "outputs": [
    {
     "data": {
      "text/plain": [
       "Time      0\n",
       "V1        0\n",
       "V2        0\n",
       "V3        0\n",
       "V4        0\n",
       "V5        0\n",
       "V6        0\n",
       "V7        0\n",
       "V8        0\n",
       "V9        0\n",
       "V10       0\n",
       "V11       0\n",
       "V12       0\n",
       "V13       0\n",
       "V14       0\n",
       "V15       0\n",
       "V16       0\n",
       "V17       0\n",
       "V18       0\n",
       "V19       0\n",
       "V20       0\n",
       "V21       0\n",
       "V22       0\n",
       "V23       0\n",
       "V24       0\n",
       "V25       0\n",
       "V26       0\n",
       "V27       0\n",
       "V28       0\n",
       "Amount    0\n",
       "Class     0\n",
       "dtype: int64"
      ]
     },
     "execution_count": 6,
     "metadata": {},
     "output_type": "execute_result"
    }
   ],
   "source": [
    "credit_card_data.isnull().sum()"
   ]
  },
  {
   "cell_type": "markdown",
   "id": "a813447b",
   "metadata": {},
   "source": [
    "###### there is no null values"
   ]
  },
  {
   "cell_type": "markdown",
   "id": "63b55e83",
   "metadata": {},
   "source": [
    "## Checking Distribution of legit transactions & fraudulent transactions"
   ]
  },
  {
   "cell_type": "code",
   "execution_count": 7,
   "id": "b2bc3883",
   "metadata": {},
   "outputs": [
    {
     "data": {
      "text/plain": [
       "0    284315\n",
       "1       492\n",
       "Name: Class, dtype: int64"
      ]
     },
     "execution_count": 7,
     "metadata": {},
     "output_type": "execute_result"
    }
   ],
   "source": [
    "credit_card_data['Class'].value_counts()"
   ]
  },
  {
   "cell_type": "markdown",
   "id": "a6758b02",
   "metadata": {},
   "source": [
    "0 Means --> Normal Transaction\n",
    "\n",
    "1 Means --> fraudulent transaction\n",
    "###### That's  mean that This Dataset is highly unblanced"
   ]
  },
  {
   "cell_type": "markdown",
   "id": "d0597bfd",
   "metadata": {},
   "source": [
    "## separating the data for analysis"
   ]
  },
  {
   "cell_type": "code",
   "execution_count": 8,
   "id": "a186a536",
   "metadata": {},
   "outputs": [],
   "source": [
    "legit = credit_card_data[credit_card_data.Class == 0]\n",
    "fraud = credit_card_data[credit_card_data.Class == 1]"
   ]
  },
  {
   "cell_type": "code",
   "execution_count": 9,
   "id": "3cae752a",
   "metadata": {},
   "outputs": [
    {
     "name": "stdout",
     "output_type": "stream",
     "text": [
      "(284315, 31)\n",
      "(492, 31)\n"
     ]
    }
   ],
   "source": [
    "print(legit.shape)\n",
    "print(fraud.shape)"
   ]
  },
  {
   "cell_type": "markdown",
   "id": "38930e6b",
   "metadata": {},
   "source": [
    "## statistical measures of the data"
   ]
  },
  {
   "cell_type": "code",
   "execution_count": 10,
   "id": "c10e6e7d",
   "metadata": {},
   "outputs": [
    {
     "data": {
      "text/plain": [
       "count    284315.000000\n",
       "mean         88.291022\n",
       "std         250.105092\n",
       "min           0.000000\n",
       "25%           5.650000\n",
       "50%          22.000000\n",
       "75%          77.050000\n",
       "max       25691.160000\n",
       "Name: Amount, dtype: float64"
      ]
     },
     "execution_count": 10,
     "metadata": {},
     "output_type": "execute_result"
    }
   ],
   "source": [
    "legit.Amount.describe()"
   ]
  },
  {
   "cell_type": "code",
   "execution_count": 11,
   "id": "05c8fbb2",
   "metadata": {},
   "outputs": [
    {
     "data": {
      "text/plain": [
       "count     492.000000\n",
       "mean      122.211321\n",
       "std       256.683288\n",
       "min         0.000000\n",
       "25%         1.000000\n",
       "50%         9.250000\n",
       "75%       105.890000\n",
       "max      2125.870000\n",
       "Name: Amount, dtype: float64"
      ]
     },
     "execution_count": 11,
     "metadata": {},
     "output_type": "execute_result"
    }
   ],
   "source": [
    "fraud.Amount.describe()"
   ]
  },
  {
   "cell_type": "markdown",
   "id": "f52e3c86",
   "metadata": {},
   "source": [
    "## compare the values for both transactions"
   ]
  },
  {
   "cell_type": "code",
   "execution_count": 12,
   "id": "15ba62b3",
   "metadata": {},
   "outputs": [
    {
     "data": {
      "text/html": [
       "<div>\n",
       "<style scoped>\n",
       "    .dataframe tbody tr th:only-of-type {\n",
       "        vertical-align: middle;\n",
       "    }\n",
       "\n",
       "    .dataframe tbody tr th {\n",
       "        vertical-align: top;\n",
       "    }\n",
       "\n",
       "    .dataframe thead th {\n",
       "        text-align: right;\n",
       "    }\n",
       "</style>\n",
       "<table border=\"1\" class=\"dataframe\">\n",
       "  <thead>\n",
       "    <tr style=\"text-align: right;\">\n",
       "      <th></th>\n",
       "      <th>Time</th>\n",
       "      <th>V1</th>\n",
       "      <th>V2</th>\n",
       "      <th>V3</th>\n",
       "      <th>V4</th>\n",
       "      <th>V5</th>\n",
       "      <th>V6</th>\n",
       "      <th>V7</th>\n",
       "      <th>V8</th>\n",
       "      <th>V9</th>\n",
       "      <th>...</th>\n",
       "      <th>V20</th>\n",
       "      <th>V21</th>\n",
       "      <th>V22</th>\n",
       "      <th>V23</th>\n",
       "      <th>V24</th>\n",
       "      <th>V25</th>\n",
       "      <th>V26</th>\n",
       "      <th>V27</th>\n",
       "      <th>V28</th>\n",
       "      <th>Amount</th>\n",
       "    </tr>\n",
       "    <tr>\n",
       "      <th>Class</th>\n",
       "      <th></th>\n",
       "      <th></th>\n",
       "      <th></th>\n",
       "      <th></th>\n",
       "      <th></th>\n",
       "      <th></th>\n",
       "      <th></th>\n",
       "      <th></th>\n",
       "      <th></th>\n",
       "      <th></th>\n",
       "      <th></th>\n",
       "      <th></th>\n",
       "      <th></th>\n",
       "      <th></th>\n",
       "      <th></th>\n",
       "      <th></th>\n",
       "      <th></th>\n",
       "      <th></th>\n",
       "      <th></th>\n",
       "      <th></th>\n",
       "      <th></th>\n",
       "    </tr>\n",
       "  </thead>\n",
       "  <tbody>\n",
       "    <tr>\n",
       "      <th>0</th>\n",
       "      <td>94838.202258</td>\n",
       "      <td>0.008258</td>\n",
       "      <td>-0.006271</td>\n",
       "      <td>0.012171</td>\n",
       "      <td>-0.007860</td>\n",
       "      <td>0.005453</td>\n",
       "      <td>0.002419</td>\n",
       "      <td>0.009637</td>\n",
       "      <td>-0.000987</td>\n",
       "      <td>0.004467</td>\n",
       "      <td>...</td>\n",
       "      <td>-0.000644</td>\n",
       "      <td>-0.001235</td>\n",
       "      <td>-0.000024</td>\n",
       "      <td>0.000070</td>\n",
       "      <td>0.000182</td>\n",
       "      <td>-0.000072</td>\n",
       "      <td>-0.000089</td>\n",
       "      <td>-0.000295</td>\n",
       "      <td>-0.000131</td>\n",
       "      <td>88.291022</td>\n",
       "    </tr>\n",
       "    <tr>\n",
       "      <th>1</th>\n",
       "      <td>80746.806911</td>\n",
       "      <td>-4.771948</td>\n",
       "      <td>3.623778</td>\n",
       "      <td>-7.033281</td>\n",
       "      <td>4.542029</td>\n",
       "      <td>-3.151225</td>\n",
       "      <td>-1.397737</td>\n",
       "      <td>-5.568731</td>\n",
       "      <td>0.570636</td>\n",
       "      <td>-2.581123</td>\n",
       "      <td>...</td>\n",
       "      <td>0.372319</td>\n",
       "      <td>0.713588</td>\n",
       "      <td>0.014049</td>\n",
       "      <td>-0.040308</td>\n",
       "      <td>-0.105130</td>\n",
       "      <td>0.041449</td>\n",
       "      <td>0.051648</td>\n",
       "      <td>0.170575</td>\n",
       "      <td>0.075667</td>\n",
       "      <td>122.211321</td>\n",
       "    </tr>\n",
       "  </tbody>\n",
       "</table>\n",
       "<p>2 rows × 30 columns</p>\n",
       "</div>"
      ],
      "text/plain": [
       "               Time        V1        V2        V3        V4        V5  \\\n",
       "Class                                                                   \n",
       "0      94838.202258  0.008258 -0.006271  0.012171 -0.007860  0.005453   \n",
       "1      80746.806911 -4.771948  3.623778 -7.033281  4.542029 -3.151225   \n",
       "\n",
       "             V6        V7        V8        V9  ...       V20       V21  \\\n",
       "Class                                          ...                       \n",
       "0      0.002419  0.009637 -0.000987  0.004467  ... -0.000644 -0.001235   \n",
       "1     -1.397737 -5.568731  0.570636 -2.581123  ...  0.372319  0.713588   \n",
       "\n",
       "            V22       V23       V24       V25       V26       V27       V28  \\\n",
       "Class                                                                         \n",
       "0     -0.000024  0.000070  0.000182 -0.000072 -0.000089 -0.000295 -0.000131   \n",
       "1      0.014049 -0.040308 -0.105130  0.041449  0.051648  0.170575  0.075667   \n",
       "\n",
       "           Amount  \n",
       "Class              \n",
       "0       88.291022  \n",
       "1      122.211321  \n",
       "\n",
       "[2 rows x 30 columns]"
      ]
     },
     "execution_count": 12,
     "metadata": {},
     "output_type": "execute_result"
    }
   ],
   "source": [
    "credit_card_data.groupby('Class').mean()"
   ]
  },
  {
   "cell_type": "code",
   "execution_count": 13,
   "id": "22e4268b",
   "metadata": {},
   "outputs": [
    {
     "data": {
      "text/plain": [
       "<AxesSubplot:xlabel='Class', ylabel='count'>"
      ]
     },
     "execution_count": 13,
     "metadata": {},
     "output_type": "execute_result"
    },
    {
     "data": {
      "image/png": "[encoded data removed]",
      "text/plain": [
       "<Figure size 432x288 with 1 Axes>"
      ]
     },
     "metadata": {
      "needs_background": "light"
     },
     "output_type": "display_data"
    }
   ],
   "source": [
    "sns.countplot(x='Class', data=credit_card_data)"
   ]
  },
  {
   "cell_type": "markdown",
   "id": "6260a9be",
   "metadata": {},
   "source": [
    "### Under-Sampling\n",
    "Building a sample dataset containing similar distribution of normal transactions and Fraudulent Transactions\n",
    "\n",
    "Number of Fraudulent Transactions --> 492\n",
    "\n"
   ]
  },
  {
   "cell_type": "code",
   "execution_count": 14,
   "id": "a34f57c6",
   "metadata": {},
   "outputs": [],
   "source": [
    "legit_sample = legit.sample(n=492)"
   ]
  },
  {
   "cell_type": "markdown",
   "id": "8321f97a",
   "metadata": {},
   "source": [
    "## Concatenating two DataFrames"
   ]
  },
  {
   "cell_type": "code",
   "execution_count": 15,
   "id": "cda02efa",
   "metadata": {},
   "outputs": [],
   "source": [
    "new_dataset = pd.concat([legit_sample, fraud], axis=0)\n"
   ]
  },
  {
   "cell_type": "code",
   "execution_count": 16,
   "id": "2e252643",
   "metadata": {},
   "outputs": [
    {
     "data": {
      "text/html": [
       "<div>\n",
       "<style scoped>\n",
       "    .dataframe tbody tr th:only-of-type {\n",
       "        vertical-align: middle;\n",
       "    }\n",
       "\n",
       "    .dataframe tbody tr th {\n",
       "        vertical-align: top;\n",
       "    }\n",
       "\n",
       "    .dataframe thead th {\n",
       "        text-align: right;\n",
       "    }\n",
       "</style>\n",
       "<table border=\"1\" class=\"dataframe\">\n",
       "  <thead>\n",
       "    <tr style=\"text-align: right;\">\n",
       "      <th></th>\n",
       "      <th>Time</th>\n",
       "      <th>V1</th>\n",
       "      <th>V2</th>\n",
       "      <th>V3</th>\n",
       "      <th>V4</th>\n",
       "      <th>V5</th>\n",
       "      <th>V6</th>\n",
       "      <th>V7</th>\n",
       "      <th>V8</th>\n",
       "      <th>V9</th>\n",
       "      <th>...</th>\n",
       "      <th>V21</th>\n",
       "      <th>V22</th>\n",
       "      <th>V23</th>\n",
       "      <th>V24</th>\n",
       "      <th>V25</th>\n",
       "      <th>V26</th>\n",
       "      <th>V27</th>\n",
       "      <th>V28</th>\n",
       "      <th>Amount</th>\n",
       "      <th>Class</th>\n",
       "    </tr>\n",
       "  </thead>\n",
       "  <tbody>\n",
       "    <tr>\n",
       "      <th>134157</th>\n",
       "      <td>80674.0</td>\n",
       "      <td>0.525255</td>\n",
       "      <td>-2.114507</td>\n",
       "      <td>0.583554</td>\n",
       "      <td>-0.494576</td>\n",
       "      <td>-0.930707</td>\n",
       "      <td>2.321604</td>\n",
       "      <td>-1.175637</td>\n",
       "      <td>0.763659</td>\n",
       "      <td>-0.088073</td>\n",
       "      <td>...</td>\n",
       "      <td>0.337440</td>\n",
       "      <td>0.526202</td>\n",
       "      <td>-0.191738</td>\n",
       "      <td>-1.304353</td>\n",
       "      <td>-0.048130</td>\n",
       "      <td>-0.144923</td>\n",
       "      <td>0.058549</td>\n",
       "      <td>0.050983</td>\n",
       "      <td>325.36</td>\n",
       "      <td>0</td>\n",
       "    </tr>\n",
       "    <tr>\n",
       "      <th>243917</th>\n",
       "      <td>152127.0</td>\n",
       "      <td>-0.992627</td>\n",
       "      <td>1.070510</td>\n",
       "      <td>1.768681</td>\n",
       "      <td>-0.349038</td>\n",
       "      <td>-0.396973</td>\n",
       "      <td>-0.400382</td>\n",
       "      <td>0.244198</td>\n",
       "      <td>0.416698</td>\n",
       "      <td>-0.207116</td>\n",
       "      <td>...</td>\n",
       "      <td>-0.116092</td>\n",
       "      <td>-0.411336</td>\n",
       "      <td>-0.183228</td>\n",
       "      <td>0.030222</td>\n",
       "      <td>0.355843</td>\n",
       "      <td>-0.419781</td>\n",
       "      <td>-0.048172</td>\n",
       "      <td>0.011345</td>\n",
       "      <td>20.00</td>\n",
       "      <td>0</td>\n",
       "    </tr>\n",
       "    <tr>\n",
       "      <th>66510</th>\n",
       "      <td>52086.0</td>\n",
       "      <td>1.092119</td>\n",
       "      <td>-0.615423</td>\n",
       "      <td>1.055025</td>\n",
       "      <td>0.309710</td>\n",
       "      <td>-1.341752</td>\n",
       "      <td>-0.390694</td>\n",
       "      <td>-0.630484</td>\n",
       "      <td>0.087632</td>\n",
       "      <td>1.334334</td>\n",
       "      <td>...</td>\n",
       "      <td>-0.207102</td>\n",
       "      <td>-0.518125</td>\n",
       "      <td>0.035903</td>\n",
       "      <td>0.432742</td>\n",
       "      <td>0.083705</td>\n",
       "      <td>0.939478</td>\n",
       "      <td>-0.051109</td>\n",
       "      <td>0.023030</td>\n",
       "      <td>70.00</td>\n",
       "      <td>0</td>\n",
       "    </tr>\n",
       "    <tr>\n",
       "      <th>160027</th>\n",
       "      <td>113087.0</td>\n",
       "      <td>-1.666647</td>\n",
       "      <td>2.370302</td>\n",
       "      <td>-1.337844</td>\n",
       "      <td>-0.592824</td>\n",
       "      <td>-0.279106</td>\n",
       "      <td>-1.355767</td>\n",
       "      <td>0.303387</td>\n",
       "      <td>0.620278</td>\n",
       "      <td>0.564578</td>\n",
       "      <td>...</td>\n",
       "      <td>0.317397</td>\n",
       "      <td>1.250813</td>\n",
       "      <td>0.040449</td>\n",
       "      <td>0.009295</td>\n",
       "      <td>-0.493863</td>\n",
       "      <td>-0.190401</td>\n",
       "      <td>0.786689</td>\n",
       "      <td>0.499061</td>\n",
       "      <td>0.89</td>\n",
       "      <td>0</td>\n",
       "    </tr>\n",
       "    <tr>\n",
       "      <th>275963</th>\n",
       "      <td>166816.0</td>\n",
       "      <td>-1.070922</td>\n",
       "      <td>1.588169</td>\n",
       "      <td>-0.651751</td>\n",
       "      <td>-0.808078</td>\n",
       "      <td>0.231805</td>\n",
       "      <td>-0.501000</td>\n",
       "      <td>0.295713</td>\n",
       "      <td>0.833820</td>\n",
       "      <td>-0.600594</td>\n",
       "      <td>...</td>\n",
       "      <td>-0.049331</td>\n",
       "      <td>-0.145815</td>\n",
       "      <td>0.174245</td>\n",
       "      <td>0.790853</td>\n",
       "      <td>-0.723718</td>\n",
       "      <td>0.104490</td>\n",
       "      <td>0.247502</td>\n",
       "      <td>0.201449</td>\n",
       "      <td>3.47</td>\n",
       "      <td>0</td>\n",
       "    </tr>\n",
       "  </tbody>\n",
       "</table>\n",
       "<p>5 rows × 31 columns</p>\n",
       "</div>"
      ],
      "text/plain": [
       "            Time        V1        V2        V3        V4        V5        V6  \\\n",
       "134157   80674.0  0.525255 -2.114507  0.583554 -0.494576 -0.930707  2.321604   \n",
       "243917  152127.0 -0.992627  1.070510  1.768681 -0.349038 -0.396973 -0.400382   \n",
       "66510    52086.0  1.092119 -0.615423  1.055025  0.309710 -1.341752 -0.390694   \n",
       "160027  113087.0 -1.666647  2.370302 -1.337844 -0.592824 -0.279106 -1.355767   \n",
       "275963  166816.0 -1.070922  1.588169 -0.651751 -0.808078  0.231805 -0.501000   \n",
       "\n",
       "              V7        V8        V9  ...       V21       V22       V23  \\\n",
       "134157 -1.175637  0.763659 -0.088073  ...  0.337440  0.526202 -0.191738   \n",
       "243917  0.244198  0.416698 -0.207116  ... -0.116092 -0.411336 -0.183228   \n",
       "66510  -0.630484  0.087632  1.334334  ... -0.207102 -0.518125  0.035903   \n",
       "160027  0.303387  0.620278  0.564578  ...  0.317397  1.250813  0.040449   \n",
       "275963  0.295713  0.833820 -0.600594  ... -0.049331 -0.145815  0.174245   \n",
       "\n",
       "             V24       V25       V26       V27       V28  Amount  Class  \n",
       "134157 -1.304353 -0.048130 -0.144923  0.058549  0.050983  325.36      0  \n",
       "243917  0.030222  0.355843 -0.419781 -0.048172  0.011345   20.00      0  \n",
       "66510   0.432742  0.083705  0.939478 -0.051109  0.023030   70.00      0  \n",
       "160027  0.009295 -0.493863 -0.190401  0.786689  0.499061    0.89      0  \n",
       "275963  0.790853 -0.723718  0.104490  0.247502  0.201449    3.47      0  \n",
       "\n",
       "[5 rows x 31 columns]"
      ]
     },
     "execution_count": 16,
     "metadata": {},
     "output_type": "execute_result"
    }
   ],
   "source": [
    "new_dataset.head()"
   ]
  },
  {
   "cell_type": "code",
   "execution_count": 17,
   "id": "19ce5ca0",
   "metadata": {},
   "outputs": [
    {
     "data": {
      "text/plain": [
       "0    492\n",
       "1    492\n",
       "Name: Class, dtype: int64"
      ]
     },
     "execution_count": 17,
     "metadata": {},
     "output_type": "execute_result"
    }
   ],
   "source": [
    "new_dataset['Class'].value_counts()"
   ]
  },
  {
   "cell_type": "code",
   "execution_count": 18,
   "id": "e7e095c7",
   "metadata": {},
   "outputs": [
    {
     "data": {
      "text/html": [
       "<div>\n",
       "<style scoped>\n",
       "    .dataframe tbody tr th:only-of-type {\n",
       "        vertical-align: middle;\n",
       "    }\n",
       "\n",
       "    .dataframe tbody tr th {\n",
       "        vertical-align: top;\n",
       "    }\n",
       "\n",
       "    .dataframe thead th {\n",
       "        text-align: right;\n",
       "    }\n",
       "</style>\n",
       "<table border=\"1\" class=\"dataframe\">\n",
       "  <thead>\n",
       "    <tr style=\"text-align: right;\">\n",
       "      <th></th>\n",
       "      <th>Time</th>\n",
       "      <th>V1</th>\n",
       "      <th>V2</th>\n",
       "      <th>V3</th>\n",
       "      <th>V4</th>\n",
       "      <th>V5</th>\n",
       "      <th>V6</th>\n",
       "      <th>V7</th>\n",
       "      <th>V8</th>\n",
       "      <th>V9</th>\n",
       "      <th>...</th>\n",
       "      <th>V20</th>\n",
       "      <th>V21</th>\n",
       "      <th>V22</th>\n",
       "      <th>V23</th>\n",
       "      <th>V24</th>\n",
       "      <th>V25</th>\n",
       "      <th>V26</th>\n",
       "      <th>V27</th>\n",
       "      <th>V28</th>\n",
       "      <th>Amount</th>\n",
       "    </tr>\n",
       "    <tr>\n",
       "      <th>Class</th>\n",
       "      <th></th>\n",
       "      <th></th>\n",
       "      <th></th>\n",
       "      <th></th>\n",
       "      <th></th>\n",
       "      <th></th>\n",
       "      <th></th>\n",
       "      <th></th>\n",
       "      <th></th>\n",
       "      <th></th>\n",
       "      <th></th>\n",
       "      <th></th>\n",
       "      <th></th>\n",
       "      <th></th>\n",
       "      <th></th>\n",
       "      <th></th>\n",
       "      <th></th>\n",
       "      <th></th>\n",
       "      <th></th>\n",
       "      <th></th>\n",
       "      <th></th>\n",
       "    </tr>\n",
       "  </thead>\n",
       "  <tbody>\n",
       "    <tr>\n",
       "      <th>0</th>\n",
       "      <td>94962.012195</td>\n",
       "      <td>-0.139346</td>\n",
       "      <td>0.055962</td>\n",
       "      <td>0.051260</td>\n",
       "      <td>-0.071748</td>\n",
       "      <td>-0.030105</td>\n",
       "      <td>-0.022812</td>\n",
       "      <td>-0.006806</td>\n",
       "      <td>0.109798</td>\n",
       "      <td>-0.018403</td>\n",
       "      <td>...</td>\n",
       "      <td>-0.006101</td>\n",
       "      <td>0.011500</td>\n",
       "      <td>0.018870</td>\n",
       "      <td>0.007464</td>\n",
       "      <td>-0.011071</td>\n",
       "      <td>0.040348</td>\n",
       "      <td>-0.004549</td>\n",
       "      <td>0.010228</td>\n",
       "      <td>0.015387</td>\n",
       "      <td>80.397398</td>\n",
       "    </tr>\n",
       "    <tr>\n",
       "      <th>1</th>\n",
       "      <td>80746.806911</td>\n",
       "      <td>-4.771948</td>\n",
       "      <td>3.623778</td>\n",
       "      <td>-7.033281</td>\n",
       "      <td>4.542029</td>\n",
       "      <td>-3.151225</td>\n",
       "      <td>-1.397737</td>\n",
       "      <td>-5.568731</td>\n",
       "      <td>0.570636</td>\n",
       "      <td>-2.581123</td>\n",
       "      <td>...</td>\n",
       "      <td>0.372319</td>\n",
       "      <td>0.713588</td>\n",
       "      <td>0.014049</td>\n",
       "      <td>-0.040308</td>\n",
       "      <td>-0.105130</td>\n",
       "      <td>0.041449</td>\n",
       "      <td>0.051648</td>\n",
       "      <td>0.170575</td>\n",
       "      <td>0.075667</td>\n",
       "      <td>122.211321</td>\n",
       "    </tr>\n",
       "  </tbody>\n",
       "</table>\n",
       "<p>2 rows × 30 columns</p>\n",
       "</div>"
      ],
      "text/plain": [
       "               Time        V1        V2        V3        V4        V5  \\\n",
       "Class                                                                   \n",
       "0      94962.012195 -0.139346  0.055962  0.051260 -0.071748 -0.030105   \n",
       "1      80746.806911 -4.771948  3.623778 -7.033281  4.542029 -3.151225   \n",
       "\n",
       "             V6        V7        V8        V9  ...       V20       V21  \\\n",
       "Class                                          ...                       \n",
       "0     -0.022812 -0.006806  0.109798 -0.018403  ... -0.006101  0.011500   \n",
       "1     -1.397737 -5.568731  0.570636 -2.581123  ...  0.372319  0.713588   \n",
       "\n",
       "            V22       V23       V24       V25       V26       V27       V28  \\\n",
       "Class                                                                         \n",
       "0      0.018870  0.007464 -0.011071  0.040348 -0.004549  0.010228  0.015387   \n",
       "1      0.014049 -0.040308 -0.105130  0.041449  0.051648  0.170575  0.075667   \n",
       "\n",
       "           Amount  \n",
       "Class              \n",
       "0       80.397398  \n",
       "1      122.211321  \n",
       "\n",
       "[2 rows x 30 columns]"
      ]
     },
     "execution_count": 18,
     "metadata": {},
     "output_type": "execute_result"
    }
   ],
   "source": [
    "new_dataset.groupby('Class').mean()"
   ]
  },
  {
   "cell_type": "markdown",
   "id": "c055ff6c",
   "metadata": {},
   "source": [
    "## Splitting the data into Features & Targets"
   ]
  },
  {
   "cell_type": "code",
   "execution_count": 19,
   "id": "8174946b",
   "metadata": {},
   "outputs": [
    {
     "name": "stdout",
     "output_type": "stream",
     "text": [
      "            Time        V1        V2        V3        V4        V5        V6  \\\n",
      "134157   80674.0  0.525255 -2.114507  0.583554 -0.494576 -0.930707  2.321604   \n",
      "243917  152127.0 -0.992627  1.070510  1.768681 -0.349038 -0.396973 -0.400382   \n",
      "66510    52086.0  1.092119 -0.615423  1.055025  0.309710 -1.341752 -0.390694   \n",
      "160027  113087.0 -1.666647  2.370302 -1.337844 -0.592824 -0.279106 -1.355767   \n",
      "275963  166816.0 -1.070922  1.588169 -0.651751 -0.808078  0.231805 -0.501000   \n",
      "...          ...       ...       ...       ...       ...       ...       ...   \n",
      "279863  169142.0 -1.927883  1.125653 -4.518331  1.749293 -1.566487 -2.010494   \n",
      "280143  169347.0  1.378559  1.289381 -5.004247  1.411850  0.442581 -1.326536   \n",
      "280149  169351.0 -0.676143  1.126366 -2.213700  0.468308 -1.120541 -0.003346   \n",
      "281144  169966.0 -3.113832  0.585864 -5.399730  1.817092 -0.840618 -2.943548   \n",
      "281674  170348.0  1.991976  0.158476 -2.583441  0.408670  1.151147 -0.096695   \n",
      "\n",
      "              V7        V8        V9  ...       V20       V21       V22  \\\n",
      "134157 -1.175637  0.763659 -0.088073  ...  0.546866  0.337440  0.526202   \n",
      "243917  0.244198  0.416698 -0.207116  ... -0.043066 -0.116092 -0.411336   \n",
      "66510  -0.630484  0.087632  1.334334  ... -0.010221 -0.207102 -0.518125   \n",
      "160027  0.303387  0.620278  0.564578  ...  0.416559  0.317397  1.250813   \n",
      "275963  0.295713  0.833820 -0.600594  ... -0.045485 -0.049331 -0.145815   \n",
      "...          ...       ...       ...  ...       ...       ...       ...   \n",
      "279863 -0.882850  0.697211 -2.064945  ...  1.252967  0.778584 -0.319189   \n",
      "280143 -1.413170  0.248525 -1.127396  ...  0.226138  0.370612  0.028234   \n",
      "280149 -2.234739  1.210158 -0.652250  ...  0.247968  0.751826  0.834108   \n",
      "281144 -2.208002  1.058733 -1.632333  ...  0.306271  0.583276 -0.269209   \n",
      "281674  0.223050 -0.068384  0.577829  ... -0.017652 -0.164350 -0.295135   \n",
      "\n",
      "             V23       V24       V25       V26       V27       V28  Amount  \n",
      "134157 -0.191738 -1.304353 -0.048130 -0.144923  0.058549  0.050983  325.36  \n",
      "243917 -0.183228  0.030222  0.355843 -0.419781 -0.048172  0.011345   20.00  \n",
      "66510   0.035903  0.432742  0.083705  0.939478 -0.051109  0.023030   70.00  \n",
      "160027  0.040449  0.009295 -0.493863 -0.190401  0.786689  0.499061    0.89  \n",
      "275963  0.174245  0.790853 -0.723718  0.104490  0.247502  0.201449    3.47  \n",
      "...          ...       ...       ...       ...       ...       ...     ...  \n",
      "279863  0.639419 -0.294885  0.537503  0.788395  0.292680  0.147968  390.00  \n",
      "280143 -0.145640 -0.081049  0.521875  0.739467  0.389152  0.186637    0.76  \n",
      "280149  0.190944  0.032070 -0.739695  0.471111  0.385107  0.194361   77.89  \n",
      "281144 -0.456108 -0.183659 -0.328168  0.606116  0.884876 -0.253700  245.00  \n",
      "281674 -0.072173 -0.450261  0.313267 -0.289617  0.002988 -0.015309   42.53  \n",
      "\n",
      "[984 rows x 30 columns]\n"
     ]
    }
   ],
   "source": [
    "X = new_dataset.drop(columns='Class', axis=1)\n",
    "Y = new_dataset['Class']\n",
    "print(X)"
   ]
  },
  {
   "cell_type": "code",
   "execution_count": 20,
   "id": "9cf15346",
   "metadata": {},
   "outputs": [
    {
     "name": "stdout",
     "output_type": "stream",
     "text": [
      "134157    0\n",
      "243917    0\n",
      "66510     0\n",
      "160027    0\n",
      "275963    0\n",
      "         ..\n",
      "279863    1\n",
      "280143    1\n",
      "280149    1\n",
      "281144    1\n",
      "281674    1\n",
      "Name: Class, Length: 984, dtype: int64\n"
     ]
    }
   ],
   "source": [
    "print(Y)"
   ]
  },
  {
   "cell_type": "markdown",
   "id": "b542c592",
   "metadata": {},
   "source": [
    "## Split the data into Training data & Testing Data"
   ]
  },
  {
   "cell_type": "code",
   "execution_count": 21,
   "id": "6bcf8cda",
   "metadata": {},
   "outputs": [],
   "source": [
    "X_train, X_test, Y_train, Y_test = train_test_split(X, Y, test_size=0.3,random_state=42)"
   ]
  },
  {
   "cell_type": "code",
   "execution_count": 22,
   "id": "03765b9d",
   "metadata": {},
   "outputs": [
    {
     "name": "stdout",
     "output_type": "stream",
     "text": [
      "(984, 30) (688, 30) (296, 30)\n"
     ]
    }
   ],
   "source": [
    "print(X.shape, X_train.shape, X_test.shape)"
   ]
  },
  {
   "cell_type": "markdown",
   "id": "ad14b35e",
   "metadata": {},
   "source": [
    "# Model Training"
   ]
  },
  {
   "cell_type": "markdown",
   "id": "04fbfac6",
   "metadata": {},
   "source": [
    "## 1-Logistic Regression"
   ]
  },
  {
   "cell_type": "code",
   "execution_count": 23,
   "id": "4eed0059",
   "metadata": {},
   "outputs": [],
   "source": [
    "logistic_model = LogisticRegression()"
   ]
  },
  {
   "cell_type": "markdown",
   "id": "3aca02de",
   "metadata": {},
   "source": [
    "### training the Logistic Regression Model with Training Data"
   ]
  },
  {
   "cell_type": "code",
   "execution_count": 24,
   "id": "b926ccf7",
   "metadata": {},
   "outputs": [
    {
     "data": {
      "text/plain": [
       "LogisticRegression()"
      ]
     },
     "execution_count": 24,
     "metadata": {},
     "output_type": "execute_result"
    }
   ],
   "source": [
    "logistic_model.fit(X_train, Y_train)"
   ]
  },
  {
   "cell_type": "markdown",
   "id": "9c873362",
   "metadata": {},
   "source": [
    "### Model Evaluation\n"
   ]
  },
  {
   "cell_type": "markdown",
   "id": "9b255d09",
   "metadata": {},
   "source": [
    "#### Accuracy Score"
   ]
  },
  {
   "cell_type": "markdown",
   "id": "c6b10f57",
   "metadata": {},
   "source": [
    "##### accuracy on training data"
   ]
  },
  {
   "cell_type": "code",
   "execution_count": 25,
   "id": "a4e5455a",
   "metadata": {},
   "outputs": [],
   "source": [
    "Xl_train_prediction = logistic_model.predict(X_train)\n",
    "training_data_accuracy = accuracy_score(Xl_train_prediction, Y_train)"
   ]
  },
  {
   "cell_type": "code",
   "execution_count": 26,
   "id": "4cbf130a",
   "metadata": {},
   "outputs": [
    {
     "name": "stdout",
     "output_type": "stream",
     "text": [
      "Accuracy on Training data  of logistic  model :  0.9447674418604651\n"
     ]
    }
   ],
   "source": [
    "print('Accuracy on Training data  of logistic  model : ', training_data_accuracy)"
   ]
  },
  {
   "cell_type": "markdown",
   "id": "75b5608c",
   "metadata": {},
   "source": [
    "##### accuracy on test data"
   ]
  },
  {
   "cell_type": "code",
   "execution_count": 27,
   "id": "e908efbd",
   "metadata": {},
   "outputs": [],
   "source": [
    "Xl_test_prediction = logistic_model.predict(X_test)\n",
    "lac = accuracy_score(Xl_test_prediction, Y_test)"
   ]
  },
  {
   "cell_type": "code",
   "execution_count": 28,
   "id": "82087243",
   "metadata": {},
   "outputs": [
    {
     "name": "stdout",
     "output_type": "stream",
     "text": [
      "Accuracy score on Test Data of logistic model:  0.9290540540540541\n"
     ]
    }
   ],
   "source": [
    "print('Accuracy score on Test Data of logistic model: ', lac)"
   ]
  },
  {
   "cell_type": "markdown",
   "id": "28d0e318",
   "metadata": {},
   "source": [
    "## 2-Decision Tree Classifier"
   ]
  },
  {
   "cell_type": "code",
   "execution_count": 29,
   "id": "5fb45b84",
   "metadata": {},
   "outputs": [],
   "source": [
    "DT = DecisionTreeClassifier( max_depth=5)"
   ]
  },
  {
   "cell_type": "markdown",
   "id": "0bd44868",
   "metadata": {},
   "source": [
    "### training the Decision Tree Classifier  Model with Training Data"
   ]
  },
  {
   "cell_type": "code",
   "execution_count": 30,
   "id": "1c530ad2",
   "metadata": {},
   "outputs": [
    {
     "data": {
      "text/plain": [
       "DecisionTreeClassifier(max_depth=5)"
      ]
     },
     "execution_count": 30,
     "metadata": {},
     "output_type": "execute_result"
    }
   ],
   "source": [
    "DT.fit(X_train, Y_train)"
   ]
  },
  {
   "cell_type": "markdown",
   "id": "26b5947d",
   "metadata": {},
   "source": [
    "### Model Evaluation"
   ]
  },
  {
   "cell_type": "markdown",
   "id": "0b6afe51",
   "metadata": {},
   "source": [
    "#### Accuracy Score"
   ]
  },
  {
   "cell_type": "markdown",
   "id": "f99517e4",
   "metadata": {},
   "source": [
    "##### accuracy on training data¶"
   ]
  },
  {
   "cell_type": "code",
   "execution_count": 31,
   "id": "7b971244",
   "metadata": {},
   "outputs": [],
   "source": [
    "Xd_train_prediction = DT.predict(X_train)\n",
    "trainingd_data_accuracy = accuracy_score(Xd_train_prediction, Y_train)"
   ]
  },
  {
   "cell_type": "code",
   "execution_count": 32,
   "id": "77332d7d",
   "metadata": {},
   "outputs": [
    {
     "name": "stdout",
     "output_type": "stream",
     "text": [
      "Accuracy on Training data  of Decision Tree  model :  0.9738372093023255\n"
     ]
    }
   ],
   "source": [
    "print('Accuracy on Training data  of Decision Tree  model : ', trainingd_data_accuracy)"
   ]
  },
  {
   "cell_type": "markdown",
   "id": "2d2e4d62",
   "metadata": {},
   "source": [
    "#### accuracy on test data"
   ]
  },
  {
   "cell_type": "code",
   "execution_count": 33,
   "id": "98c6bd77",
   "metadata": {},
   "outputs": [],
   "source": [
    "Xd_test_prediction = DT.predict(X_test)\n",
    "dtac= accuracy_score(Xd_test_prediction, Y_test)"
   ]
  },
  {
   "cell_type": "code",
   "execution_count": 34,
   "id": "7e0c7af5",
   "metadata": {},
   "outputs": [
    {
     "name": "stdout",
     "output_type": "stream",
     "text": [
      "Accuracy score on Test Data of Decision Tree model:  0.9155405405405406\n"
     ]
    }
   ],
   "source": [
    "print('Accuracy score on Test Data of Decision Tree model: ', dtac)"
   ]
  },
  {
   "cell_type": "markdown",
   "id": "30b584e6",
   "metadata": {},
   "source": [
    "# 3-K-Nearest Neighbors"
   ]
  },
  {
   "cell_type": "code",
   "execution_count": 35,
   "id": "c9ea6cf5",
   "metadata": {},
   "outputs": [],
   "source": [
    "knn = KNeighborsClassifier(n_neighbors=5)"
   ]
  },
  {
   "cell_type": "markdown",
   "id": "85d405ac",
   "metadata": {},
   "source": [
    "### training the K-Nearest Neighbors Model with Training Data"
   ]
  },
  {
   "cell_type": "code",
   "execution_count": 36,
   "id": "4fa54ef6",
   "metadata": {},
   "outputs": [
    {
     "data": {
      "text/plain": [
       "KNeighborsClassifier()"
      ]
     },
     "execution_count": 36,
     "metadata": {},
     "output_type": "execute_result"
    }
   ],
   "source": [
    "knn.fit(X_train, Y_train)"
   ]
  },
  {
   "cell_type": "markdown",
   "id": "64f6d8a5",
   "metadata": {},
   "source": [
    "### Model Evaluation"
   ]
  },
  {
   "cell_type": "markdown",
   "id": "9de08e09",
   "metadata": {},
   "source": [
    "#### Accuracy Score"
   ]
  },
  {
   "cell_type": "markdown",
   "id": "98f01fe3",
   "metadata": {},
   "source": [
    "#### accuracy on training data"
   ]
  },
  {
   "cell_type": "code",
   "execution_count": 37,
   "id": "0d6535e6",
   "metadata": {},
   "outputs": [],
   "source": [
    "Xk_train_prediction = knn.predict(X_train)\n",
    "trainingk_data_accuracy = accuracy_score(Xk_train_prediction, Y_train)"
   ]
  },
  {
   "cell_type": "code",
   "execution_count": 38,
   "id": "d3fd67c7",
   "metadata": {},
   "outputs": [
    {
     "name": "stdout",
     "output_type": "stream",
     "text": [
      "Accuracy on Training data  of K-Nearest Neighbors model :  0.747093023255814\n"
     ]
    }
   ],
   "source": [
    "print('Accuracy on Training data  of K-Nearest Neighbors model : ', trainingk_data_accuracy)"
   ]
  },
  {
   "cell_type": "markdown",
   "id": "00c58649",
   "metadata": {},
   "source": [
    "#### accuracy on test data"
   ]
  },
  {
   "cell_type": "code",
   "execution_count": 39,
   "id": "09aea429",
   "metadata": {},
   "outputs": [],
   "source": [
    "Xk_test_prediction = knn.predict(X_test)\n",
    "kac = accuracy_score(Xk_test_prediction, Y_test)"
   ]
  },
  {
   "cell_type": "code",
   "execution_count": 40,
   "id": "e038b208",
   "metadata": {},
   "outputs": [
    {
     "name": "stdout",
     "output_type": "stream",
     "text": [
      "Accuracy score on Test Data of K-Nearest Neighbors model:  0.6081081081081081\n"
     ]
    }
   ],
   "source": [
    "print('Accuracy score on Test Data of K-Nearest Neighbors model: ', kac)"
   ]
  },
  {
   "cell_type": "markdown",
   "id": "55946b58",
   "metadata": {},
   "source": [
    "# 4-Random Forest Classifier  model"
   ]
  },
  {
   "cell_type": "code",
   "execution_count": 41,
   "id": "309e95b9",
   "metadata": {},
   "outputs": [],
   "source": [
    "Rclf = RandomForestClassifier(max_depth=7)"
   ]
  },
  {
   "cell_type": "markdown",
   "id": "02210760",
   "metadata": {},
   "source": [
    "### training the Random Forest Classifier Model with Training Data"
   ]
  },
  {
   "cell_type": "code",
   "execution_count": 42,
   "id": "9c148344",
   "metadata": {},
   "outputs": [
    {
     "data": {
      "text/plain": [
       "RandomForestClassifier(max_depth=7)"
      ]
     },
     "execution_count": 42,
     "metadata": {},
     "output_type": "execute_result"
    }
   ],
   "source": [
    "Rclf.fit(X_train, Y_train)"
   ]
  },
  {
   "cell_type": "markdown",
   "id": "14360fdb",
   "metadata": {},
   "source": [
    "### Model Evaluation¶"
   ]
  },
  {
   "cell_type": "markdown",
   "id": "21389b52",
   "metadata": {},
   "source": [
    "### Accuracy Score"
   ]
  },
  {
   "cell_type": "markdown",
   "id": "155494e0",
   "metadata": {},
   "source": [
    "#### accuracy on training data"
   ]
  },
  {
   "cell_type": "code",
   "execution_count": 43,
   "id": "b2fb77f4",
   "metadata": {},
   "outputs": [],
   "source": [
    "Xr_train_prediction = Rclf.predict(X_train)\n",
    "trainingr_data_accuracy = accuracy_score(Xr_train_prediction, Y_train)"
   ]
  },
  {
   "cell_type": "code",
   "execution_count": 44,
   "id": "0153c3d0",
   "metadata": {},
   "outputs": [
    {
     "name": "stdout",
     "output_type": "stream",
     "text": [
      "Accuracy on Training data  of Random Forest Classifier  model :  0.9767441860465116\n"
     ]
    }
   ],
   "source": [
    "print('Accuracy on Training data  of Random Forest Classifier  model : ', trainingr_data_accuracy)"
   ]
  },
  {
   "cell_type": "markdown",
   "id": "5901db77",
   "metadata": {},
   "source": [
    "#### accuracy on test data\n"
   ]
  },
  {
   "cell_type": "code",
   "execution_count": 45,
   "id": "ba1cccf5",
   "metadata": {},
   "outputs": [],
   "source": [
    "Xr_test_prediction = Rclf.predict(X_test)\n",
    "rac = accuracy_score(Xr_test_prediction, Y_test)"
   ]
  },
  {
   "cell_type": "code",
   "execution_count": 46,
   "id": "531e6676",
   "metadata": {},
   "outputs": [
    {
     "name": "stdout",
     "output_type": "stream",
     "text": [
      "Accuracy score on Test Data of Random Forest Classifier model:  0.9324324324324325\n"
     ]
    }
   ],
   "source": [
    "print('Accuracy score on Test Data of Random Forest Classifier model: ', rac)"
   ]
  },
  {
   "cell_type": "markdown",
   "id": "06cf9b19",
   "metadata": {},
   "source": [
    "# 5-Gaussian Naive Bayes"
   ]
  },
  {
   "cell_type": "code",
   "execution_count": 47,
   "id": "f3b713f1",
   "metadata": {},
   "outputs": [],
   "source": [
    "gs=GaussianNB()\n"
   ]
  },
  {
   "cell_type": "code",
   "execution_count": 48,
   "id": "9fa6a9fa",
   "metadata": {},
   "outputs": [
    {
     "data": {
      "text/plain": [
       "GaussianNB()"
      ]
     },
     "execution_count": 48,
     "metadata": {},
     "output_type": "execute_result"
    }
   ],
   "source": [
    "gs.fit(X_train, Y_train)"
   ]
  },
  {
   "cell_type": "markdown",
   "id": "c8a6299c",
   "metadata": {},
   "source": [
    "### training the Gaussian Naive Bayes  Model with Training Data"
   ]
  },
  {
   "cell_type": "code",
   "execution_count": 49,
   "id": "63668a3c",
   "metadata": {},
   "outputs": [],
   "source": [
    "Xg_train_prediction = gs.predict(X_train)\n",
    "trainingg_data_accuracy = accuracy_score(Xg_train_prediction, Y_train)"
   ]
  },
  {
   "cell_type": "markdown",
   "id": "34b01f31",
   "metadata": {},
   "source": [
    "### Model Evaluation¶"
   ]
  },
  {
   "cell_type": "markdown",
   "id": "197746ea",
   "metadata": {},
   "source": [
    "### Accuracy Score"
   ]
  },
  {
   "cell_type": "markdown",
   "id": "44768f81",
   "metadata": {},
   "source": [
    "#### accuracy on training data"
   ]
  },
  {
   "cell_type": "code",
   "execution_count": 50,
   "id": "bdafe05a",
   "metadata": {},
   "outputs": [
    {
     "name": "stdout",
     "output_type": "stream",
     "text": [
      "Accuracy on Training data  of Gaussian Naive Bayes  model :  0.8575581395348837\n"
     ]
    }
   ],
   "source": [
    "print('Accuracy on Training data  of Gaussian Naive Bayes  model : ', trainingg_data_accuracy)"
   ]
  },
  {
   "cell_type": "markdown",
   "id": "9d235948",
   "metadata": {},
   "source": [
    "#### accuracy on test data"
   ]
  },
  {
   "cell_type": "code",
   "execution_count": 51,
   "id": "6d90d3d7",
   "metadata": {},
   "outputs": [],
   "source": [
    "Xg_test_prediction = gs.predict(X_test)\n",
    "gac = accuracy_score(Xg_test_prediction, Y_test)"
   ]
  },
  {
   "cell_type": "code",
   "execution_count": 52,
   "id": "4d336c8e",
   "metadata": {},
   "outputs": [
    {
     "name": "stdout",
     "output_type": "stream",
     "text": [
      "Accuracy score on Test Data of Gaussian Naive Bayes model:  0.8547297297297297\n"
     ]
    }
   ],
   "source": [
    "print('Accuracy score on Test Data of Gaussian Naive Bayes model: ', gac)"
   ]
  },
  {
   "cell_type": "markdown",
   "id": "d297bed2",
   "metadata": {},
   "source": [
    "## 6- support vector machines"
   ]
  },
  {
   "cell_type": "code",
   "execution_count": 53,
   "id": "3eea9c89",
   "metadata": {},
   "outputs": [],
   "source": [
    "Svm = svm.SVC()\n"
   ]
  },
  {
   "cell_type": "markdown",
   "id": "9c99b707",
   "metadata": {},
   "source": [
    "### training the support vector machines Model with Training Data"
   ]
  },
  {
   "cell_type": "code",
   "execution_count": 54,
   "id": "54a38439",
   "metadata": {},
   "outputs": [
    {
     "data": {
      "text/plain": [
       "SVC()"
      ]
     },
     "execution_count": 54,
     "metadata": {},
     "output_type": "execute_result"
    }
   ],
   "source": [
    "Svm.fit(X_train, Y_train)"
   ]
  },
  {
   "cell_type": "markdown",
   "id": "c07e5a78",
   "metadata": {},
   "source": [
    "### Model Evaluation"
   ]
  },
  {
   "cell_type": "markdown",
   "id": "4900f6cc",
   "metadata": {},
   "source": [
    "### Accuracy Score"
   ]
  },
  {
   "cell_type": "markdown",
   "id": "23f2d15c",
   "metadata": {},
   "source": [
    "### accuracy on training data"
   ]
  },
  {
   "cell_type": "code",
   "execution_count": 55,
   "id": "7f033819",
   "metadata": {},
   "outputs": [],
   "source": [
    "Xs_train_prediction = Svm.predict(X_train)\n",
    "trainings_data_accuracy = accuracy_score(Xs_train_prediction, Y_train)"
   ]
  },
  {
   "cell_type": "code",
   "execution_count": 56,
   "id": "df7dadb3",
   "metadata": {},
   "outputs": [
    {
     "name": "stdout",
     "output_type": "stream",
     "text": [
      "Accuracy on Training data  of support vector machines  model :  0.5988372093023255\n"
     ]
    }
   ],
   "source": [
    "print('Accuracy on Training data  of support vector machines  model : ', trainings_data_accuracy)"
   ]
  },
  {
   "cell_type": "markdown",
   "id": "6f3cb8f1",
   "metadata": {},
   "source": [
    "### accuracy on test data"
   ]
  },
  {
   "cell_type": "code",
   "execution_count": 57,
   "id": "7dad1fd5",
   "metadata": {},
   "outputs": [],
   "source": [
    "Xs_test_prediction = Svm.predict(X_test)\n",
    "sac = accuracy_score(Xs_test_prediction, Y_test)"
   ]
  },
  {
   "cell_type": "code",
   "execution_count": 58,
   "id": "8e35b355",
   "metadata": {},
   "outputs": [
    {
     "name": "stdout",
     "output_type": "stream",
     "text": [
      "Accuracy score on Test Data of support vector machines model:  0.543918918918919\n"
     ]
    }
   ],
   "source": [
    "print('Accuracy score on Test Data of support vector machines model: ', sac)"
   ]
  },
  {
   "cell_type": "markdown",
   "id": "235ccf81",
   "metadata": {},
   "source": [
    "## Comparison visualization of the 6 models\n"
   ]
  },
  {
   "cell_type": "code",
   "execution_count": 59,
   "id": "3fccb908",
   "metadata": {},
   "outputs": [
    {
     "data": {
      "image/png": "[encoded data removed]",
      "text/plain": [
       "<Figure size 432x288 with 1 Axes>"
      ]
     },
     "metadata": {
      "needs_background": "light"
     },
     "output_type": "display_data"
    }
   ],
   "source": [
    "fig = plt.figure()\n",
    "fig.suptitle('Algorithm Comparison')\n",
    "x=[\"Logistic\",\"Dt\",\"Knn\",\"Randomforest\",\"   Gaussian\",\"Svm\"]\n",
    "y=[lac,dtac,kac,rac,gac,sac]\n",
    "z=[\"blue\",\"green\",\"yellow\",\"lime\",\"gold\"]\n",
    "plt.bar(x,y,width=.8,color=z)\n",
    "plt.xlabel(\"Algorithms\")\n",
    "plt.ylabel(\"Accurracy\")\n",
    "plt.show()"
   ]
  },
  {
   "cell_type": "code",
   "execution_count": 60,
   "id": "7e9a9b08",
   "metadata": {},
   "outputs": [],
   "source": [
    "dataset = datasets.load_wine()\n",
    "X = dataset.data; y = dataset.target\n",
    "X_train, X_test, y_train, y_test = model_selection.train_test_split(X, y, test_size=0.3)"
   ]
  },
  {
   "cell_type": "code",
   "execution_count": 61,
   "id": "c9cbd26c",
   "metadata": {},
   "outputs": [
    {
     "data": {
      "text/plain": [
       "['Completed_model.joblib']"
      ]
     },
     "execution_count": 61,
     "metadata": {},
     "output_type": "execute_result"
    }
   ],
   "source": [
    "model = RandomForestClassifier()\n",
    "model.fit(X_train, y_train)\n",
    "filename = \"Completed_model.joblib\"\n",
    "joblib.dump(model, filename)"
   ]
  },
  {
   "cell_type": "code",
   "execution_count": 62,
   "id": "8e50dfc1",
   "metadata": {
    "scrolled": true
   },
   "outputs": [
    {
     "name": "stdout",
     "output_type": "stream",
     "text": [
      "1.0\n"
     ]
    }
   ],
   "source": [
    "loaded_model = joblib.load(filename)\n",
    "result = loaded_model.score(X_test, y_test)\n",
    "print(result)"
   ]
  },
  {
   "cell_type": "code",
   "execution_count": null,
   "id": "ca13f7e7",
   "metadata": {},
   "outputs": [],
   "source": []
  },
  {
   "cell_type": "code",
   "execution_count": null,
   "id": "4c53856e",
   "metadata": {},
   "outputs": [],
   "source": []
  }
 ],
 "metadata": {
  "kernelspec": {
   "display_name": "Python 3 (ipykernel)",
   "language": "python",
   "name": "python3"
  },
  "language_info": {
   "codemirror_mode": {
    "name": "ipython",
    "version": 3
   },
   "file_extension": ".py",
   "mimetype": "text/x-python",
   "name": "python",
   "nbconvert_exporter": "python",
   "pygments_lexer": "ipython3",
   "version": "3.9.7"
  }
 },
 "nbformat": 4,
 "nbformat_minor": 5
}
